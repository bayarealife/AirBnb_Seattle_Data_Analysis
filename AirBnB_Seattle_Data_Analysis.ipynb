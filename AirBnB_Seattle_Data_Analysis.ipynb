{
 "cells": [
  {
   "cell_type": "markdown",
   "metadata": {},
   "source": [
    "# AirBnB Seattle Data Analysis Script"
   ]
  },
  {
   "cell_type": "markdown",
   "metadata": {},
   "source": [
    "### The project follows CRISP DM Process, and each phase will be stated below"
   ]
  },
  {
   "cell_type": "markdown",
   "metadata": {},
   "source": [
    "## Business Understanding\n",
    "#### Business Objective\n",
    "The business objective of this analysis is to identify the factors contributing to bookings to increase profits for AirBnB and their hosts who list their properties in Seattle, WA area.\n",
    "#### Business Questions\n",
    "1. Does property neighborhood have effect on popularity?\n",
    "2. Does Superhost status have effect on popularity?\n",
    "3. Does Host ID Verification Status have effect on popularity?\n",
    "4. Does Property Type have effect on popularity?\n",
    "5. Does Host Response have effect on popularity?"
   ]
  },
  {
   "cell_type": "markdown",
   "metadata": {},
   "source": [
    "### Import libraries"
   ]
  },
  {
   "cell_type": "code",
   "execution_count": 1,
   "metadata": {},
   "outputs": [
    {
     "name": "stderr",
     "output_type": "stream",
     "text": [
      "C:\\Users\\kdeside1\\AppData\\Local\\Continuum\\anaconda3\\lib\\site-packages\\statsmodels\\tools\\_testing.py:19: FutureWarning: pandas.util.testing is deprecated. Use the functions in the public API at pandas.testing instead.\n",
      "  import pandas.util.testing as tm\n"
     ]
    }
   ],
   "source": [
    "import pandas as pd\n",
    "import seaborn as sns\n",
    "import matplotlib.pyplot as plt"
   ]
  },
  {
   "cell_type": "markdown",
   "metadata": {},
   "source": [
    "### Define Functions"
   ]
  },
  {
   "cell_type": "code",
   "execution_count": 2,
   "metadata": {},
   "outputs": [],
   "source": [
    "def bar_plot(df, figsize, title, rot=None, loc=None, anchor=None):\n",
    "    \"\"\" Creates bar plot\n",
    "    Input:  df=dataframe, fisize=graph size in tuple, title=graph title in string, rot=x-label rotation, \n",
    "    loc=legend position, anchor=legend starting point \"\"\"\n",
    "    fig = df.plot(kind='bar', rot=rot, figsize=figsize, use_index=True, title=title, \\\n",
    "                 color=['#305496','#F3A875'], fontsize=14)\n",
    "    fig.axes.title.set_size(20)\n",
    "    fig.legend(fontsize=14, loc=loc, bbox_to_anchor=anchor)\n",
    "\n",
    "\n",
    "def concat_graph_df(df1, df2, field, col_names, index=None):\n",
    "    \"\"\"Concatenate 2 Series or Dataframes and returns a dataframe to be plotted\n",
    "    Input:  df1=dataframe or Series, df2=dataframe or Series, field=column containing X value, \n",
    "    col_names=column names for the new graph dataframe \"\"\"\n",
    "    graph_df = pd.concat([df1[field].value_counts(normalize=True), df2[field].value_counts(normalize=True)], axis=1)\n",
    "    graph_df.columns=col_names\n",
    "    if not index is None:\n",
    "        graph_df.index=index\n",
    "    return graph_df"
   ]
  },
  {
   "cell_type": "markdown",
   "metadata": {},
   "source": [
    "### Read the data file"
   ]
  },
  {
   "cell_type": "code",
   "execution_count": 3,
   "metadata": {},
   "outputs": [],
   "source": [
    "df_calendar = pd.read_csv('./Data/calendar.csv', encoding='utf-8')"
   ]
  },
  {
   "cell_type": "code",
   "execution_count": 4,
   "metadata": {},
   "outputs": [
    {
     "name": "stdout",
     "output_type": "stream",
     "text": [
      "(1531652, 7)\n"
     ]
    },
    {
     "data": {
      "text/html": [
       "<div>\n",
       "<style scoped>\n",
       "    .dataframe tbody tr th:only-of-type {\n",
       "        vertical-align: middle;\n",
       "    }\n",
       "\n",
       "    .dataframe tbody tr th {\n",
       "        vertical-align: top;\n",
       "    }\n",
       "\n",
       "    .dataframe thead th {\n",
       "        text-align: right;\n",
       "    }\n",
       "</style>\n",
       "<table border=\"1\" class=\"dataframe\">\n",
       "  <thead>\n",
       "    <tr style=\"text-align: right;\">\n",
       "      <th></th>\n",
       "      <th>listing_id</th>\n",
       "      <th>date</th>\n",
       "      <th>available</th>\n",
       "      <th>price</th>\n",
       "      <th>adjusted_price</th>\n",
       "      <th>minimum_nights</th>\n",
       "      <th>maximum_nights</th>\n",
       "    </tr>\n",
       "  </thead>\n",
       "  <tbody>\n",
       "    <tr>\n",
       "      <th>0</th>\n",
       "      <td>1355094</td>\n",
       "      <td>2021-02-21</td>\n",
       "      <td>f</td>\n",
       "      <td>$27.00</td>\n",
       "      <td>$26.00</td>\n",
       "      <td>30.0</td>\n",
       "      <td>1125.0</td>\n",
       "    </tr>\n",
       "    <tr>\n",
       "      <th>1</th>\n",
       "      <td>1356339</td>\n",
       "      <td>2021-02-21</td>\n",
       "      <td>f</td>\n",
       "      <td>$119.00</td>\n",
       "      <td>$119.00</td>\n",
       "      <td>2.0</td>\n",
       "      <td>1125.0</td>\n",
       "    </tr>\n",
       "    <tr>\n",
       "      <th>2</th>\n",
       "      <td>1356339</td>\n",
       "      <td>2021-02-22</td>\n",
       "      <td>f</td>\n",
       "      <td>$119.00</td>\n",
       "      <td>$119.00</td>\n",
       "      <td>2.0</td>\n",
       "      <td>1125.0</td>\n",
       "    </tr>\n",
       "    <tr>\n",
       "      <th>3</th>\n",
       "      <td>1356339</td>\n",
       "      <td>2021-02-23</td>\n",
       "      <td>f</td>\n",
       "      <td>$119.00</td>\n",
       "      <td>$119.00</td>\n",
       "      <td>2.0</td>\n",
       "      <td>1125.0</td>\n",
       "    </tr>\n",
       "    <tr>\n",
       "      <th>4</th>\n",
       "      <td>1356339</td>\n",
       "      <td>2021-02-24</td>\n",
       "      <td>f</td>\n",
       "      <td>$119.00</td>\n",
       "      <td>$119.00</td>\n",
       "      <td>2.0</td>\n",
       "      <td>1125.0</td>\n",
       "    </tr>\n",
       "  </tbody>\n",
       "</table>\n",
       "</div>"
      ],
      "text/plain": [
       "   listing_id        date available    price adjusted_price  minimum_nights  \\\n",
       "0     1355094  2021-02-21         f   $27.00         $26.00            30.0   \n",
       "1     1356339  2021-02-21         f  $119.00        $119.00             2.0   \n",
       "2     1356339  2021-02-22         f  $119.00        $119.00             2.0   \n",
       "3     1356339  2021-02-23         f  $119.00        $119.00             2.0   \n",
       "4     1356339  2021-02-24         f  $119.00        $119.00             2.0   \n",
       "\n",
       "   maximum_nights  \n",
       "0          1125.0  \n",
       "1          1125.0  \n",
       "2          1125.0  \n",
       "3          1125.0  \n",
       "4          1125.0  "
      ]
     },
     "execution_count": 4,
     "metadata": {},
     "output_type": "execute_result"
    }
   ],
   "source": [
    "print(df_calendar.shape)\n",
    "df_calendar.head()"
   ]
  },
  {
   "cell_type": "code",
   "execution_count": 5,
   "metadata": {},
   "outputs": [
    {
     "name": "stdout",
     "output_type": "stream",
     "text": [
      "The starting date of this dataset:  2021-02-21\n",
      "The ending date of this dataset:  2022-02-21\n"
     ]
    }
   ],
   "source": [
    "print('The starting date of this dataset:  {}'.format(df_calendar['date'].min()))\n",
    "print('The ending date of this dataset:  {}'.format(df_calendar['date'].max()))"
   ]
  },
  {
   "cell_type": "code",
   "execution_count": 6,
   "metadata": {},
   "outputs": [],
   "source": [
    "df_listing = pd.read_csv('./Data/listings.csv', encoding='utf-8')"
   ]
  },
  {
   "cell_type": "code",
   "execution_count": 7,
   "metadata": {},
   "outputs": [
    {
     "name": "stdout",
     "output_type": "stream",
     "text": [
      "(4197, 74)\n"
     ]
    },
    {
     "data": {
      "text/html": [
       "<div>\n",
       "<style scoped>\n",
       "    .dataframe tbody tr th:only-of-type {\n",
       "        vertical-align: middle;\n",
       "    }\n",
       "\n",
       "    .dataframe tbody tr th {\n",
       "        vertical-align: top;\n",
       "    }\n",
       "\n",
       "    .dataframe thead th {\n",
       "        text-align: right;\n",
       "    }\n",
       "</style>\n",
       "<table border=\"1\" class=\"dataframe\">\n",
       "  <thead>\n",
       "    <tr style=\"text-align: right;\">\n",
       "      <th></th>\n",
       "      <th>id</th>\n",
       "      <th>listing_url</th>\n",
       "      <th>scrape_id</th>\n",
       "      <th>last_scraped</th>\n",
       "      <th>name</th>\n",
       "      <th>description</th>\n",
       "      <th>neighborhood_overview</th>\n",
       "      <th>picture_url</th>\n",
       "      <th>host_id</th>\n",
       "      <th>host_url</th>\n",
       "      <th>...</th>\n",
       "      <th>review_scores_communication</th>\n",
       "      <th>review_scores_location</th>\n",
       "      <th>review_scores_value</th>\n",
       "      <th>license</th>\n",
       "      <th>instant_bookable</th>\n",
       "      <th>calculated_host_listings_count</th>\n",
       "      <th>calculated_host_listings_count_entire_homes</th>\n",
       "      <th>calculated_host_listings_count_private_rooms</th>\n",
       "      <th>calculated_host_listings_count_shared_rooms</th>\n",
       "      <th>reviews_per_month</th>\n",
       "    </tr>\n",
       "  </thead>\n",
       "  <tbody>\n",
       "    <tr>\n",
       "      <th>0</th>\n",
       "      <td>2318</td>\n",
       "      <td>https://www.airbnb.com/rooms/2318</td>\n",
       "      <td>20210221060053</td>\n",
       "      <td>2021-02-22</td>\n",
       "      <td>Casa Madrona - Urban Oasis 1 block from the park!</td>\n",
       "      <td>Gorgeous, architect remodeled, Dutch Colonial ...</td>\n",
       "      <td>Madrona is a hidden gem of a neighborhood. It ...</td>\n",
       "      <td>https://a0.muscache.com/pictures/02973ad3-a7a3...</td>\n",
       "      <td>2536</td>\n",
       "      <td>https://www.airbnb.com/users/show/2536</td>\n",
       "      <td>...</td>\n",
       "      <td>10.0</td>\n",
       "      <td>10.0</td>\n",
       "      <td>10.0</td>\n",
       "      <td>STR-OPLI-19-002837</td>\n",
       "      <td>t</td>\n",
       "      <td>1</td>\n",
       "      <td>1</td>\n",
       "      <td>0</td>\n",
       "      <td>0</td>\n",
       "      <td>0.21</td>\n",
       "    </tr>\n",
       "    <tr>\n",
       "      <th>1</th>\n",
       "      <td>9419</td>\n",
       "      <td>https://www.airbnb.com/rooms/9419</td>\n",
       "      <td>20210221060053</td>\n",
       "      <td>2021-02-22</td>\n",
       "      <td>Glorious sun room w/ memory foambed</td>\n",
       "      <td>Keeping you safe is our priority, we are adher...</td>\n",
       "      <td>Lots of restaurants (see our guide book) bars,...</td>\n",
       "      <td>https://a0.muscache.com/pictures/56645186/e5fb...</td>\n",
       "      <td>30559</td>\n",
       "      <td>https://www.airbnb.com/users/show/30559</td>\n",
       "      <td>...</td>\n",
       "      <td>10.0</td>\n",
       "      <td>10.0</td>\n",
       "      <td>10.0</td>\n",
       "      <td>STR-OPLI-19-003039</td>\n",
       "      <td>f</td>\n",
       "      <td>7</td>\n",
       "      <td>0</td>\n",
       "      <td>7</td>\n",
       "      <td>0</td>\n",
       "      <td>1.15</td>\n",
       "    </tr>\n",
       "    <tr>\n",
       "      <th>2</th>\n",
       "      <td>9531</td>\n",
       "      <td>https://www.airbnb.com/rooms/9531</td>\n",
       "      <td>20210221060053</td>\n",
       "      <td>2021-02-22</td>\n",
       "      <td>The Adorable Sweet Orange Craftsman</td>\n",
       "      <td>The Sweet Orange is a delightful and spacious ...</td>\n",
       "      <td>The neighborhood is awesome!  Just far enough ...</td>\n",
       "      <td>https://a0.muscache.com/pictures/30470355/052c...</td>\n",
       "      <td>31481</td>\n",
       "      <td>https://www.airbnb.com/users/show/31481</td>\n",
       "      <td>...</td>\n",
       "      <td>10.0</td>\n",
       "      <td>10.0</td>\n",
       "      <td>10.0</td>\n",
       "      <td>STR-OPLI-19-002182</td>\n",
       "      <td>f</td>\n",
       "      <td>2</td>\n",
       "      <td>2</td>\n",
       "      <td>0</td>\n",
       "      <td>0</td>\n",
       "      <td>0.37</td>\n",
       "    </tr>\n",
       "    <tr>\n",
       "      <th>3</th>\n",
       "      <td>9534</td>\n",
       "      <td>https://www.airbnb.com/rooms/9534</td>\n",
       "      <td>20210221060053</td>\n",
       "      <td>2021-02-22</td>\n",
       "      <td>The Coolest Tangerine Dream MIL!</td>\n",
       "      <td>Welcome to my delicious Tangerine Dream!  A co...</td>\n",
       "      <td>The neighborhood is the best of two worlds...w...</td>\n",
       "      <td>https://a0.muscache.com/pictures/30476721/0751...</td>\n",
       "      <td>31481</td>\n",
       "      <td>https://www.airbnb.com/users/show/31481</td>\n",
       "      <td>...</td>\n",
       "      <td>10.0</td>\n",
       "      <td>10.0</td>\n",
       "      <td>10.0</td>\n",
       "      <td>STR-OPLI-19-002182</td>\n",
       "      <td>f</td>\n",
       "      <td>2</td>\n",
       "      <td>2</td>\n",
       "      <td>0</td>\n",
       "      <td>0</td>\n",
       "      <td>0.50</td>\n",
       "    </tr>\n",
       "    <tr>\n",
       "      <th>4</th>\n",
       "      <td>9596</td>\n",
       "      <td>https://www.airbnb.com/rooms/9596</td>\n",
       "      <td>20210221060053</td>\n",
       "      <td>2021-02-21</td>\n",
       "      <td>the down home , spacious, central and fab!</td>\n",
       "      <td>We are in a great neighborhood, quiet, full of...</td>\n",
       "      <td>if you arrive early for check in at 3,  I reco...</td>\n",
       "      <td>https://a0.muscache.com/pictures/665252/102d18...</td>\n",
       "      <td>14942</td>\n",
       "      <td>https://www.airbnb.com/users/show/14942</td>\n",
       "      <td>...</td>\n",
       "      <td>9.0</td>\n",
       "      <td>10.0</td>\n",
       "      <td>9.0</td>\n",
       "      <td>STR-OPLI-19-002622</td>\n",
       "      <td>f</td>\n",
       "      <td>2</td>\n",
       "      <td>2</td>\n",
       "      <td>0</td>\n",
       "      <td>0</td>\n",
       "      <td>0.82</td>\n",
       "    </tr>\n",
       "  </tbody>\n",
       "</table>\n",
       "<p>5 rows × 74 columns</p>\n",
       "</div>"
      ],
      "text/plain": [
       "     id                        listing_url       scrape_id last_scraped  \\\n",
       "0  2318  https://www.airbnb.com/rooms/2318  20210221060053   2021-02-22   \n",
       "1  9419  https://www.airbnb.com/rooms/9419  20210221060053   2021-02-22   \n",
       "2  9531  https://www.airbnb.com/rooms/9531  20210221060053   2021-02-22   \n",
       "3  9534  https://www.airbnb.com/rooms/9534  20210221060053   2021-02-22   \n",
       "4  9596  https://www.airbnb.com/rooms/9596  20210221060053   2021-02-21   \n",
       "\n",
       "                                                name  \\\n",
       "0  Casa Madrona - Urban Oasis 1 block from the park!   \n",
       "1                Glorious sun room w/ memory foambed   \n",
       "2                The Adorable Sweet Orange Craftsman   \n",
       "3                   The Coolest Tangerine Dream MIL!   \n",
       "4         the down home , spacious, central and fab!   \n",
       "\n",
       "                                         description  \\\n",
       "0  Gorgeous, architect remodeled, Dutch Colonial ...   \n",
       "1  Keeping you safe is our priority, we are adher...   \n",
       "2  The Sweet Orange is a delightful and spacious ...   \n",
       "3  Welcome to my delicious Tangerine Dream!  A co...   \n",
       "4  We are in a great neighborhood, quiet, full of...   \n",
       "\n",
       "                               neighborhood_overview  \\\n",
       "0  Madrona is a hidden gem of a neighborhood. It ...   \n",
       "1  Lots of restaurants (see our guide book) bars,...   \n",
       "2  The neighborhood is awesome!  Just far enough ...   \n",
       "3  The neighborhood is the best of two worlds...w...   \n",
       "4  if you arrive early for check in at 3,  I reco...   \n",
       "\n",
       "                                         picture_url  host_id  \\\n",
       "0  https://a0.muscache.com/pictures/02973ad3-a7a3...     2536   \n",
       "1  https://a0.muscache.com/pictures/56645186/e5fb...    30559   \n",
       "2  https://a0.muscache.com/pictures/30470355/052c...    31481   \n",
       "3  https://a0.muscache.com/pictures/30476721/0751...    31481   \n",
       "4  https://a0.muscache.com/pictures/665252/102d18...    14942   \n",
       "\n",
       "                                  host_url  ... review_scores_communication  \\\n",
       "0   https://www.airbnb.com/users/show/2536  ...                        10.0   \n",
       "1  https://www.airbnb.com/users/show/30559  ...                        10.0   \n",
       "2  https://www.airbnb.com/users/show/31481  ...                        10.0   \n",
       "3  https://www.airbnb.com/users/show/31481  ...                        10.0   \n",
       "4  https://www.airbnb.com/users/show/14942  ...                         9.0   \n",
       "\n",
       "  review_scores_location review_scores_value             license  \\\n",
       "0                   10.0                10.0  STR-OPLI-19-002837   \n",
       "1                   10.0                10.0  STR-OPLI-19-003039   \n",
       "2                   10.0                10.0  STR-OPLI-19-002182   \n",
       "3                   10.0                10.0  STR-OPLI-19-002182   \n",
       "4                   10.0                 9.0  STR-OPLI-19-002622   \n",
       "\n",
       "  instant_bookable calculated_host_listings_count  \\\n",
       "0                t                              1   \n",
       "1                f                              7   \n",
       "2                f                              2   \n",
       "3                f                              2   \n",
       "4                f                              2   \n",
       "\n",
       "  calculated_host_listings_count_entire_homes  \\\n",
       "0                                           1   \n",
       "1                                           0   \n",
       "2                                           2   \n",
       "3                                           2   \n",
       "4                                           2   \n",
       "\n",
       "  calculated_host_listings_count_private_rooms  \\\n",
       "0                                            0   \n",
       "1                                            7   \n",
       "2                                            0   \n",
       "3                                            0   \n",
       "4                                            0   \n",
       "\n",
       "  calculated_host_listings_count_shared_rooms reviews_per_month  \n",
       "0                                           0              0.21  \n",
       "1                                           0              1.15  \n",
       "2                                           0              0.37  \n",
       "3                                           0              0.50  \n",
       "4                                           0              0.82  \n",
       "\n",
       "[5 rows x 74 columns]"
      ]
     },
     "execution_count": 7,
     "metadata": {},
     "output_type": "execute_result"
    }
   ],
   "source": [
    "print(df_listing.shape)\n",
    "df_listing.head()"
   ]
  },
  {
   "cell_type": "markdown",
   "metadata": {},
   "source": [
    "## Data Understanding"
   ]
  },
  {
   "cell_type": "code",
   "execution_count": 8,
   "metadata": {},
   "outputs": [
    {
     "data": {
      "text/plain": [
       "['id',\n",
       " 'listing_url',\n",
       " 'scrape_id',\n",
       " 'last_scraped',\n",
       " 'name',\n",
       " 'description',\n",
       " 'neighborhood_overview',\n",
       " 'picture_url',\n",
       " 'host_id',\n",
       " 'host_url',\n",
       " 'host_name',\n",
       " 'host_since',\n",
       " 'host_location',\n",
       " 'host_about',\n",
       " 'host_response_time',\n",
       " 'host_response_rate',\n",
       " 'host_acceptance_rate',\n",
       " 'host_is_superhost',\n",
       " 'host_thumbnail_url',\n",
       " 'host_picture_url',\n",
       " 'host_neighbourhood',\n",
       " 'host_listings_count',\n",
       " 'host_total_listings_count',\n",
       " 'host_verifications',\n",
       " 'host_has_profile_pic',\n",
       " 'host_identity_verified',\n",
       " 'neighbourhood',\n",
       " 'neighbourhood_cleansed',\n",
       " 'neighbourhood_group_cleansed',\n",
       " 'latitude',\n",
       " 'longitude',\n",
       " 'property_type',\n",
       " 'room_type',\n",
       " 'accommodates',\n",
       " 'bathrooms',\n",
       " 'bathrooms_text',\n",
       " 'bedrooms',\n",
       " 'beds',\n",
       " 'amenities',\n",
       " 'price',\n",
       " 'minimum_nights',\n",
       " 'maximum_nights',\n",
       " 'minimum_minimum_nights',\n",
       " 'maximum_minimum_nights',\n",
       " 'minimum_maximum_nights',\n",
       " 'maximum_maximum_nights',\n",
       " 'minimum_nights_avg_ntm',\n",
       " 'maximum_nights_avg_ntm',\n",
       " 'calendar_updated',\n",
       " 'has_availability',\n",
       " 'availability_30',\n",
       " 'availability_60',\n",
       " 'availability_90',\n",
       " 'availability_365',\n",
       " 'calendar_last_scraped',\n",
       " 'number_of_reviews',\n",
       " 'number_of_reviews_ltm',\n",
       " 'number_of_reviews_l30d',\n",
       " 'first_review',\n",
       " 'last_review',\n",
       " 'review_scores_rating',\n",
       " 'review_scores_accuracy',\n",
       " 'review_scores_cleanliness',\n",
       " 'review_scores_checkin',\n",
       " 'review_scores_communication',\n",
       " 'review_scores_location',\n",
       " 'review_scores_value',\n",
       " 'license',\n",
       " 'instant_bookable',\n",
       " 'calculated_host_listings_count',\n",
       " 'calculated_host_listings_count_entire_homes',\n",
       " 'calculated_host_listings_count_private_rooms',\n",
       " 'calculated_host_listings_count_shared_rooms',\n",
       " 'reviews_per_month']"
      ]
     },
     "execution_count": 8,
     "metadata": {},
     "output_type": "execute_result"
    }
   ],
   "source": [
    "## Columns in df_listing\n",
    "df_listing.columns.tolist()"
   ]
  },
  {
   "cell_type": "code",
   "execution_count": 9,
   "metadata": {},
   "outputs": [
    {
     "data": {
      "text/html": [
       "<div>\n",
       "<style scoped>\n",
       "    .dataframe tbody tr th:only-of-type {\n",
       "        vertical-align: middle;\n",
       "    }\n",
       "\n",
       "    .dataframe tbody tr th {\n",
       "        vertical-align: top;\n",
       "    }\n",
       "\n",
       "    .dataframe thead th {\n",
       "        text-align: right;\n",
       "    }\n",
       "</style>\n",
       "<table border=\"1\" class=\"dataframe\">\n",
       "  <thead>\n",
       "    <tr style=\"text-align: right;\">\n",
       "      <th></th>\n",
       "      <th>id</th>\n",
       "      <th>scrape_id</th>\n",
       "      <th>host_id</th>\n",
       "      <th>host_listings_count</th>\n",
       "      <th>host_total_listings_count</th>\n",
       "      <th>latitude</th>\n",
       "      <th>longitude</th>\n",
       "      <th>accommodates</th>\n",
       "      <th>bathrooms</th>\n",
       "      <th>bedrooms</th>\n",
       "      <th>...</th>\n",
       "      <th>review_scores_cleanliness</th>\n",
       "      <th>review_scores_checkin</th>\n",
       "      <th>review_scores_communication</th>\n",
       "      <th>review_scores_location</th>\n",
       "      <th>review_scores_value</th>\n",
       "      <th>calculated_host_listings_count</th>\n",
       "      <th>calculated_host_listings_count_entire_homes</th>\n",
       "      <th>calculated_host_listings_count_private_rooms</th>\n",
       "      <th>calculated_host_listings_count_shared_rooms</th>\n",
       "      <th>reviews_per_month</th>\n",
       "    </tr>\n",
       "  </thead>\n",
       "  <tbody>\n",
       "    <tr>\n",
       "      <th>count</th>\n",
       "      <td>4.197000e+03</td>\n",
       "      <td>4.197000e+03</td>\n",
       "      <td>4.197000e+03</td>\n",
       "      <td>4193.000000</td>\n",
       "      <td>4193.000000</td>\n",
       "      <td>4197.000000</td>\n",
       "      <td>4197.000000</td>\n",
       "      <td>4197.000000</td>\n",
       "      <td>0.0</td>\n",
       "      <td>3619.000000</td>\n",
       "      <td>...</td>\n",
       "      <td>3377.000000</td>\n",
       "      <td>3377.000000</td>\n",
       "      <td>3377.000000</td>\n",
       "      <td>3377.000000</td>\n",
       "      <td>3377.000000</td>\n",
       "      <td>4197.000000</td>\n",
       "      <td>4197.000000</td>\n",
       "      <td>4197.000000</td>\n",
       "      <td>4197.000000</td>\n",
       "      <td>3429.000000</td>\n",
       "    </tr>\n",
       "    <tr>\n",
       "      <th>mean</th>\n",
       "      <td>2.750170e+07</td>\n",
       "      <td>2.021022e+13</td>\n",
       "      <td>8.494779e+07</td>\n",
       "      <td>133.539232</td>\n",
       "      <td>133.539232</td>\n",
       "      <td>47.624849</td>\n",
       "      <td>-122.334593</td>\n",
       "      <td>3.659757</td>\n",
       "      <td>NaN</td>\n",
       "      <td>1.568942</td>\n",
       "      <td>...</td>\n",
       "      <td>9.655908</td>\n",
       "      <td>9.847794</td>\n",
       "      <td>9.832988</td>\n",
       "      <td>9.838022</td>\n",
       "      <td>9.517619</td>\n",
       "      <td>18.287586</td>\n",
       "      <td>16.873481</td>\n",
       "      <td>1.141291</td>\n",
       "      <td>0.235406</td>\n",
       "      <td>1.910490</td>\n",
       "    </tr>\n",
       "    <tr>\n",
       "      <th>std</th>\n",
       "      <td>1.514280e+07</td>\n",
       "      <td>2.031492e-01</td>\n",
       "      <td>1.036887e+08</td>\n",
       "      <td>365.787002</td>\n",
       "      <td>365.787002</td>\n",
       "      <td>0.046859</td>\n",
       "      <td>0.033056</td>\n",
       "      <td>2.254967</td>\n",
       "      <td>NaN</td>\n",
       "      <td>0.906574</td>\n",
       "      <td>...</td>\n",
       "      <td>0.760036</td>\n",
       "      <td>0.610378</td>\n",
       "      <td>0.613775</td>\n",
       "      <td>0.458076</td>\n",
       "      <td>0.827404</td>\n",
       "      <td>38.367155</td>\n",
       "      <td>38.339453</td>\n",
       "      <td>4.015853</td>\n",
       "      <td>2.122748</td>\n",
       "      <td>1.753745</td>\n",
       "    </tr>\n",
       "    <tr>\n",
       "      <th>min</th>\n",
       "      <td>2.318000e+03</td>\n",
       "      <td>2.021022e+13</td>\n",
       "      <td>2.536000e+03</td>\n",
       "      <td>0.000000</td>\n",
       "      <td>0.000000</td>\n",
       "      <td>47.496210</td>\n",
       "      <td>-122.418760</td>\n",
       "      <td>0.000000</td>\n",
       "      <td>NaN</td>\n",
       "      <td>1.000000</td>\n",
       "      <td>...</td>\n",
       "      <td>2.000000</td>\n",
       "      <td>2.000000</td>\n",
       "      <td>2.000000</td>\n",
       "      <td>3.000000</td>\n",
       "      <td>2.000000</td>\n",
       "      <td>1.000000</td>\n",
       "      <td>0.000000</td>\n",
       "      <td>0.000000</td>\n",
       "      <td>0.000000</td>\n",
       "      <td>0.010000</td>\n",
       "    </tr>\n",
       "    <tr>\n",
       "      <th>25%</th>\n",
       "      <td>1.490220e+07</td>\n",
       "      <td>2.021022e+13</td>\n",
       "      <td>8.607308e+06</td>\n",
       "      <td>1.000000</td>\n",
       "      <td>1.000000</td>\n",
       "      <td>47.604570</td>\n",
       "      <td>-122.356340</td>\n",
       "      <td>2.000000</td>\n",
       "      <td>NaN</td>\n",
       "      <td>1.000000</td>\n",
       "      <td>...</td>\n",
       "      <td>9.000000</td>\n",
       "      <td>10.000000</td>\n",
       "      <td>10.000000</td>\n",
       "      <td>10.000000</td>\n",
       "      <td>9.000000</td>\n",
       "      <td>1.000000</td>\n",
       "      <td>1.000000</td>\n",
       "      <td>0.000000</td>\n",
       "      <td>0.000000</td>\n",
       "      <td>0.530000</td>\n",
       "    </tr>\n",
       "    <tr>\n",
       "      <th>50%</th>\n",
       "      <td>2.792874e+07</td>\n",
       "      <td>2.021022e+13</td>\n",
       "      <td>3.983446e+07</td>\n",
       "      <td>2.000000</td>\n",
       "      <td>2.000000</td>\n",
       "      <td>47.620930</td>\n",
       "      <td>-122.334570</td>\n",
       "      <td>3.000000</td>\n",
       "      <td>NaN</td>\n",
       "      <td>1.000000</td>\n",
       "      <td>...</td>\n",
       "      <td>10.000000</td>\n",
       "      <td>10.000000</td>\n",
       "      <td>10.000000</td>\n",
       "      <td>10.000000</td>\n",
       "      <td>10.000000</td>\n",
       "      <td>2.000000</td>\n",
       "      <td>1.000000</td>\n",
       "      <td>0.000000</td>\n",
       "      <td>0.000000</td>\n",
       "      <td>1.410000</td>\n",
       "    </tr>\n",
       "    <tr>\n",
       "      <th>75%</th>\n",
       "      <td>4.224708e+07</td>\n",
       "      <td>2.021022e+13</td>\n",
       "      <td>1.187390e+08</td>\n",
       "      <td>10.000000</td>\n",
       "      <td>10.000000</td>\n",
       "      <td>47.660090</td>\n",
       "      <td>-122.310960</td>\n",
       "      <td>4.000000</td>\n",
       "      <td>NaN</td>\n",
       "      <td>2.000000</td>\n",
       "      <td>...</td>\n",
       "      <td>10.000000</td>\n",
       "      <td>10.000000</td>\n",
       "      <td>10.000000</td>\n",
       "      <td>10.000000</td>\n",
       "      <td>10.000000</td>\n",
       "      <td>7.000000</td>\n",
       "      <td>5.000000</td>\n",
       "      <td>0.000000</td>\n",
       "      <td>0.000000</td>\n",
       "      <td>2.810000</td>\n",
       "    </tr>\n",
       "    <tr>\n",
       "      <th>max</th>\n",
       "      <td>4.825671e+07</td>\n",
       "      <td>2.021022e+13</td>\n",
       "      <td>3.888968e+08</td>\n",
       "      <td>1398.000000</td>\n",
       "      <td>1398.000000</td>\n",
       "      <td>47.733530</td>\n",
       "      <td>-122.245540</td>\n",
       "      <td>16.000000</td>\n",
       "      <td>NaN</td>\n",
       "      <td>7.000000</td>\n",
       "      <td>...</td>\n",
       "      <td>10.000000</td>\n",
       "      <td>10.000000</td>\n",
       "      <td>10.000000</td>\n",
       "      <td>10.000000</td>\n",
       "      <td>10.000000</td>\n",
       "      <td>146.000000</td>\n",
       "      <td>146.000000</td>\n",
       "      <td>32.000000</td>\n",
       "      <td>21.000000</td>\n",
       "      <td>12.130000</td>\n",
       "    </tr>\n",
       "  </tbody>\n",
       "</table>\n",
       "<p>8 rows × 39 columns</p>\n",
       "</div>"
      ],
      "text/plain": [
       "                 id     scrape_id       host_id  host_listings_count  \\\n",
       "count  4.197000e+03  4.197000e+03  4.197000e+03          4193.000000   \n",
       "mean   2.750170e+07  2.021022e+13  8.494779e+07           133.539232   \n",
       "std    1.514280e+07  2.031492e-01  1.036887e+08           365.787002   \n",
       "min    2.318000e+03  2.021022e+13  2.536000e+03             0.000000   \n",
       "25%    1.490220e+07  2.021022e+13  8.607308e+06             1.000000   \n",
       "50%    2.792874e+07  2.021022e+13  3.983446e+07             2.000000   \n",
       "75%    4.224708e+07  2.021022e+13  1.187390e+08            10.000000   \n",
       "max    4.825671e+07  2.021022e+13  3.888968e+08          1398.000000   \n",
       "\n",
       "       host_total_listings_count     latitude    longitude  accommodates  \\\n",
       "count                4193.000000  4197.000000  4197.000000   4197.000000   \n",
       "mean                  133.539232    47.624849  -122.334593      3.659757   \n",
       "std                   365.787002     0.046859     0.033056      2.254967   \n",
       "min                     0.000000    47.496210  -122.418760      0.000000   \n",
       "25%                     1.000000    47.604570  -122.356340      2.000000   \n",
       "50%                     2.000000    47.620930  -122.334570      3.000000   \n",
       "75%                    10.000000    47.660090  -122.310960      4.000000   \n",
       "max                  1398.000000    47.733530  -122.245540     16.000000   \n",
       "\n",
       "       bathrooms     bedrooms  ...  review_scores_cleanliness  \\\n",
       "count        0.0  3619.000000  ...                3377.000000   \n",
       "mean         NaN     1.568942  ...                   9.655908   \n",
       "std          NaN     0.906574  ...                   0.760036   \n",
       "min          NaN     1.000000  ...                   2.000000   \n",
       "25%          NaN     1.000000  ...                   9.000000   \n",
       "50%          NaN     1.000000  ...                  10.000000   \n",
       "75%          NaN     2.000000  ...                  10.000000   \n",
       "max          NaN     7.000000  ...                  10.000000   \n",
       "\n",
       "       review_scores_checkin  review_scores_communication  \\\n",
       "count            3377.000000                  3377.000000   \n",
       "mean                9.847794                     9.832988   \n",
       "std                 0.610378                     0.613775   \n",
       "min                 2.000000                     2.000000   \n",
       "25%                10.000000                    10.000000   \n",
       "50%                10.000000                    10.000000   \n",
       "75%                10.000000                    10.000000   \n",
       "max                10.000000                    10.000000   \n",
       "\n",
       "       review_scores_location  review_scores_value  \\\n",
       "count             3377.000000          3377.000000   \n",
       "mean                 9.838022             9.517619   \n",
       "std                  0.458076             0.827404   \n",
       "min                  3.000000             2.000000   \n",
       "25%                 10.000000             9.000000   \n",
       "50%                 10.000000            10.000000   \n",
       "75%                 10.000000            10.000000   \n",
       "max                 10.000000            10.000000   \n",
       "\n",
       "       calculated_host_listings_count  \\\n",
       "count                     4197.000000   \n",
       "mean                        18.287586   \n",
       "std                         38.367155   \n",
       "min                          1.000000   \n",
       "25%                          1.000000   \n",
       "50%                          2.000000   \n",
       "75%                          7.000000   \n",
       "max                        146.000000   \n",
       "\n",
       "       calculated_host_listings_count_entire_homes  \\\n",
       "count                                  4197.000000   \n",
       "mean                                     16.873481   \n",
       "std                                      38.339453   \n",
       "min                                       0.000000   \n",
       "25%                                       1.000000   \n",
       "50%                                       1.000000   \n",
       "75%                                       5.000000   \n",
       "max                                     146.000000   \n",
       "\n",
       "       calculated_host_listings_count_private_rooms  \\\n",
       "count                                   4197.000000   \n",
       "mean                                       1.141291   \n",
       "std                                        4.015853   \n",
       "min                                        0.000000   \n",
       "25%                                        0.000000   \n",
       "50%                                        0.000000   \n",
       "75%                                        0.000000   \n",
       "max                                       32.000000   \n",
       "\n",
       "       calculated_host_listings_count_shared_rooms  reviews_per_month  \n",
       "count                                  4197.000000        3429.000000  \n",
       "mean                                      0.235406           1.910490  \n",
       "std                                       2.122748           1.753745  \n",
       "min                                       0.000000           0.010000  \n",
       "25%                                       0.000000           0.530000  \n",
       "50%                                       0.000000           1.410000  \n",
       "75%                                       0.000000           2.810000  \n",
       "max                                      21.000000          12.130000  \n",
       "\n",
       "[8 rows x 39 columns]"
      ]
     },
     "execution_count": 9,
     "metadata": {},
     "output_type": "execute_result"
    }
   ],
   "source": [
    "## df_listing stats\n",
    "df_listing.describe()"
   ]
  },
  {
   "cell_type": "markdown",
   "metadata": {},
   "source": [
    "#### Identify and understand the columns with missing values in order to determine which columns should or should not be used in the analysis\n",
    "The dataset is small in size (4197 rows), and any missing values can be critical so the number of null values must be minimal in the fields used in the analysis.\n",
    "\n",
    "Based on the assessment below, it was concluded that 20% of missing data was the optimal threshold to drop the column.\n",
    "The reasons are as follows:\n",
    "\n",
    "20%:  Neighborhood_overview and neighborhood can be replaced with other neighborhood fields, host_about is subjective string content and is not imputable, and license is also subjective to each location and does not correlate to the listing popularity.\n",
    "\n",
    "15%:  Contains many score and host response data which may not be obtained due to the data containing the future bookings).  15% threshold could lose too many critical fields"
   ]
  },
  {
   "cell_type": "code",
   "execution_count": 10,
   "metadata": {},
   "outputs": [
    {
     "name": "stdout",
     "output_type": "stream",
     "text": [
      "The following columns have 20% or more null values and will be removed:\n",
      "Index(['neighborhood_overview', 'host_about', 'neighbourhood', 'bathrooms',\n",
      "       'calendar_updated', 'license'],\n",
      "      dtype='object')\n"
     ]
    }
   ],
   "source": [
    "## Identify the columns which are missing 20% or more values\n",
    "print('The following columns have 20% or more null values and will be removed:')\n",
    "print(df_listing.columns[df_listing.isna().sum()/df_listing.shape[0] >= .20])"
   ]
  },
  {
   "cell_type": "code",
   "execution_count": 11,
   "metadata": {},
   "outputs": [
    {
     "name": "stdout",
     "output_type": "stream",
     "text": [
      "The following columns have 15% or more null values and will be removed:\n",
      "Index(['neighborhood_overview', 'host_about', 'host_response_time',\n",
      "       'host_response_rate', 'neighbourhood', 'bathrooms', 'calendar_updated',\n",
      "       'first_review', 'last_review', 'review_scores_rating',\n",
      "       'review_scores_accuracy', 'review_scores_cleanliness',\n",
      "       'review_scores_checkin', 'review_scores_communication',\n",
      "       'review_scores_location', 'review_scores_value', 'license',\n",
      "       'reviews_per_month'],\n",
      "      dtype='object')\n"
     ]
    }
   ],
   "source": [
    "## Identify the columns which are missing 15% or more values\n",
    "print('The following columns have 15% or more null values and will be removed:')\n",
    "print(df_listing.columns[df_listing.isna().sum()/df_listing.shape[0] >= .15])"
   ]
  },
  {
   "cell_type": "markdown",
   "metadata": {},
   "source": [
    "#### Identify popular listings from not so popular listings."
   ]
  },
  {
   "cell_type": "code",
   "execution_count": 13,
   "metadata": {},
   "outputs": [],
   "source": [
    "## Add the percentage of booking.  -- Higher the percentage, more popular the listing\n",
    "## Higher the number, the popular the listing \n",
    "df_listing['Booking Percentage'] = (365-df_listing['availability_365'])/365 * 100"
   ]
  },
  {
   "cell_type": "markdown",
   "metadata": {},
   "source": [
    "#### In this analysis, it will be defined as popular listing if the property has 80% or more booking"
   ]
  },
  {
   "cell_type": "code",
   "execution_count": 16,
   "metadata": {},
   "outputs": [
    {
     "name": "stdout",
     "output_type": "stream",
     "text": [
      "28.1 % of the Seattle Listings already has 80% booked until 2022-02-21\n"
     ]
    }
   ],
   "source": [
    "pop_list_percent = df_listing[df_listing['Booking Percentage']>=80].shape[0] / df_listing.shape[0] * 100\n",
    "print('{:.1f} % of the Seattle Listings already has 80% booked until {}'.format(pop_list_percent, df_calendar['date'].max()))"
   ]
  },
  {
   "cell_type": "markdown",
   "metadata": {},
   "source": [
    "#### Quick check of the numerical columns for any significant correlation to popularity"
   ]
  },
  {
   "cell_type": "code",
   "execution_count": 19,
   "metadata": {},
   "outputs": [
    {
     "data": {
      "text/plain": [
       "id                                              False\n",
       "scrape_id                                       False\n",
       "host_id                                         False\n",
       "host_listings_count                             False\n",
       "host_total_listings_count                       False\n",
       "latitude                                        False\n",
       "longitude                                       False\n",
       "accommodates                                    False\n",
       "bathrooms                                       False\n",
       "bedrooms                                        False\n",
       "beds                                            False\n",
       "minimum_nights                                  False\n",
       "maximum_nights                                  False\n",
       "minimum_minimum_nights                          False\n",
       "maximum_minimum_nights                          False\n",
       "minimum_maximum_nights                          False\n",
       "maximum_maximum_nights                          False\n",
       "minimum_nights_avg_ntm                          False\n",
       "maximum_nights_avg_ntm                          False\n",
       "calendar_updated                                False\n",
       "availability_30                                  True\n",
       "availability_60                                  True\n",
       "availability_90                                  True\n",
       "availability_365                                 True\n",
       "number_of_reviews                               False\n",
       "number_of_reviews_ltm                           False\n",
       "number_of_reviews_l30d                          False\n",
       "review_scores_rating                            False\n",
       "review_scores_accuracy                          False\n",
       "review_scores_cleanliness                       False\n",
       "review_scores_checkin                           False\n",
       "review_scores_communication                     False\n",
       "review_scores_location                          False\n",
       "review_scores_value                             False\n",
       "calculated_host_listings_count                  False\n",
       "calculated_host_listings_count_entire_homes     False\n",
       "calculated_host_listings_count_private_rooms    False\n",
       "calculated_host_listings_count_shared_rooms     False\n",
       "reviews_per_month                               False\n",
       "Booking Percentage                               True\n",
       "Name: Booking Percentage, dtype: bool"
      ]
     },
     "execution_count": 19,
     "metadata": {},
     "output_type": "execute_result"
    }
   ],
   "source": [
    "## Using correlation coefficience for numerical columns did not show any significant correlation for popular listings\n",
    "abs(df_listing.corr()['Booking Percentage'])>=0.3"
   ]
  },
  {
   "cell_type": "code",
   "execution_count": null,
   "metadata": {},
   "outputs": [],
   "source": [
    "## The correlation to these numerical columns did not show any significant relationship.  \n",
    "## Booking percentage was calculated based on availability_365, \n",
    "## and this is why 'availability_*' columns are showing correlation"
   ]
  },
  {
   "cell_type": "markdown",
   "metadata": {},
   "source": [
    "## Data preparation"
   ]
  },
  {
   "cell_type": "markdown",
   "metadata": {},
   "source": [
    "### Clean the dataframes by removing columns with no or little values"
   ]
  },
  {
   "cell_type": "code",
   "execution_count": 20,
   "metadata": {},
   "outputs": [],
   "source": [
    "df_listing_cp = df_listing.copy()"
   ]
  },
  {
   "cell_type": "code",
   "execution_count": 21,
   "metadata": {},
   "outputs": [
    {
     "name": "stdout",
     "output_type": "stream",
     "text": [
      "Based on the threshold determined previously, 6 columns have been removed\n"
     ]
    }
   ],
   "source": [
    "df_null_thld = df_listing_cp.columns[df_listing_cp.isna().sum()/df_listing_cp.shape[0] >= .20]\n",
    "df_listing_cp.drop(columns=df_null_thld, inplace=True)\n",
    "print('Based on the threshold determined previously, {} columns have been removed'.format(len(df_null_thld)))"
   ]
  },
  {
   "cell_type": "markdown",
   "metadata": {},
   "source": [
    "## Data Modeling"
   ]
  },
  {
   "cell_type": "markdown",
   "metadata": {},
   "source": [
    "### 1. Does property neighborhood have effect on popularity?"
   ]
  },
  {
   "cell_type": "code",
   "execution_count": 22,
   "metadata": {},
   "outputs": [],
   "source": [
    "df_popular_listing = df_listing_cp[df_listing_cp['Booking Percentage']>=80]\n",
    "df_other_listing = df_listing_cp[df_listing_cp['Booking Percentage']<80]"
   ]
  },
  {
   "cell_type": "code",
   "execution_count": 23,
   "metadata": {},
   "outputs": [],
   "source": [
    "graphdf_columns=['More Than 80% Booked','Less Than 80% Booked']"
   ]
  },
  {
   "cell_type": "code",
   "execution_count": 24,
   "metadata": {},
   "outputs": [
    {
     "data": {
      "image/png": "[encoded data removed]",
      "text/plain": [
       "<Figure size 720x360 with 1 Axes>"
      ]
     },
     "metadata": {
      "needs_background": "light"
     },
     "output_type": "display_data"
    }
   ],
   "source": [
    "## Check neighbourhood_group_cleansed of popular listings\n",
    "bar_plot(concat_graph_df(df_popular_listing, df_other_listing, 'neighbourhood_group_cleansed', graphdf_columns), \\\n",
    "         (10,5), 'Popular Listings VS Others Based On Neighborhood', 90)"
   ]
  },
  {
   "cell_type": "markdown",
   "metadata": {},
   "source": [
    "### 2. Does Superhost status have effect on popularity?"
   ]
  },
  {
   "cell_type": "code",
   "execution_count": 25,
   "metadata": {},
   "outputs": [
    {
     "data": {
      "image/png": "[encoded data removed]",
      "text/plain": [
       "<Figure size 360x360 with 1 Axes>"
      ]
     },
     "metadata": {
      "needs_background": "light"
     },
     "output_type": "display_data"
    }
   ],
   "source": [
    "bar_plot(concat_graph_df(df_popular_listing, df_other_listing, 'host_is_superhost', graphdf_columns, ['Not Superhost','Superhost']), \\\n",
    "         (5,5), 'Popular Listings VS Others Based On Superhost Status', 45, 'upper right', (1.5, 1))"
   ]
  },
  {
   "cell_type": "markdown",
   "metadata": {},
   "source": [
    "### 3. Does Host ID Verification Status have effect on popularity?"
   ]
  },
  {
   "cell_type": "code",
   "execution_count": 26,
   "metadata": {},
   "outputs": [
    {
     "data": {
      "image/png": "[encoded data removed]",
      "text/plain": [
       "<Figure size 360x360 with 1 Axes>"
      ]
     },
     "metadata": {
      "needs_background": "light"
     },
     "output_type": "display_data"
    }
   ],
   "source": [
    "## Check correlation to host ID verification status\n",
    "bar_plot(concat_graph_df(df_popular_listing, df_other_listing, 'host_identity_verified', graphdf_columns, ['Host Identity Verified','Host Identity Not Verified']), \\\n",
    "         (5,5), 'Popular Listings VS Others Based On Host ID Verification Status', 45, 'upper right', (1.3, 1))"
   ]
  },
  {
   "cell_type": "markdown",
   "metadata": {},
   "source": [
    "### 4. Does Property Type have effect on popularity?"
   ]
  },
  {
   "cell_type": "code",
   "execution_count": 27,
   "metadata": {},
   "outputs": [
    {
     "data": {
      "image/png": "[encoded data removed]",
      "text/plain": [
       "<Figure size 720x360 with 1 Axes>"
      ]
     },
     "metadata": {
      "needs_background": "light"
     },
     "output_type": "display_data"
    }
   ],
   "source": [
    "## Check correlation to property type\n",
    "df_propertyType=pd.concat([df_popular_listing['property_type'].value_counts(normalize=True),\\\n",
    "                           df_other_listing['property_type'].value_counts(normalize=True)], axis=1)\n",
    "df_propertyType.columns=graphdf_columns\n",
    "bar_plot(df_propertyType.iloc[:10,:], (10,5), 'Popular Listings VS Others Based On Property Type', 90)"
   ]
  },
  {
   "cell_type": "markdown",
   "metadata": {},
   "source": [
    "### 5. Does Host Response have effect on popularity?"
   ]
  },
  {
   "cell_type": "code",
   "execution_count": 28,
   "metadata": {},
   "outputs": [
    {
     "data": {
      "image/png": "[encoded data removed]",
      "text/plain": [
       "<Figure size 504x360 with 1 Axes>"
      ]
     },
     "metadata": {
      "needs_background": "light"
     },
     "output_type": "display_data"
    }
   ],
   "source": [
    "## Check correlation to Host Response Time\n",
    "bar_plot(concat_graph_df(df_popular_listing, df_other_listing, 'host_response_time', graphdf_columns), \\\n",
    "         (7,5), 'Popular Listings VS Others Based On Host Response Time', 45)"
   ]
  },
  {
   "cell_type": "code",
   "execution_count": 29,
   "metadata": {},
   "outputs": [],
   "source": [
    "## Categorize the response rate percentage to bins\n",
    "bins=[-1,50,75,90,100]\n",
    "labels = ['0-50%','50-75%','75-90%','90-100%']\n",
    "\n",
    "df_pop_resp_rate = pd.cut(df_popular_listing['host_response_rate'].str.replace('%','').fillna(0).astype(int), bins=bins, labels=labels)\n",
    "df_other_resp_rate = pd.cut(df_other_listing['host_response_rate'].str.replace('%','').fillna(0).astype(int), bins=bins, labels=labels)"
   ]
  },
  {
   "cell_type": "code",
   "execution_count": 30,
   "metadata": {},
   "outputs": [
    {
     "data": {
      "image/png": "[encoded data removed]",
      "text/plain": [
       "<Figure size 504x360 with 1 Axes>"
      ]
     },
     "metadata": {
      "needs_background": "light"
     },
     "output_type": "display_data"
    }
   ],
   "source": [
    "df_resp_rate=pd.concat([df_pop_resp_rate.value_counts(normalize=True, sort=False), \\\n",
    "                        df_other_resp_rate.value_counts(normalize=True, sort=False)], axis=1)\n",
    "df_resp_rate.columns=graphdf_columns\n",
    "bar_plot(df_resp_rate, (7,5), 'Popular Listings VS Others Based On Host Response Rate', 90)"
   ]
  },
  {
   "cell_type": "markdown",
   "metadata": {},
   "source": [
    "## Results Evaluation"
   ]
  },
  {
   "cell_type": "markdown",
   "metadata": {},
   "source": [
    "#### Conclusion:  The selected metadata -- Neighbourhood, Superhost Status, Property Type and Host Response all showed some patterns in each group except the diffference in Host ID Verification status was very minimal.\n",
    "\n",
    "1. Some of the neighbourhood were identified as slightly more popular than others.\n",
    "\n",
    "2. Superhost status was slightly advantageous than non-Superhost status.\n",
    "\n",
    "3. The difference for Host ID Verification status was very minimal.\n",
    "\n",
    "4. Entire property appealed to more customers than shared rooms and apartment.\n",
    "\n",
    "5. Although being responsive appealed to more customers, but it does not necessarily have to be prompt."
   ]
  },
  {
   "cell_type": "code",
   "execution_count": null,
   "metadata": {},
   "outputs": [],
   "source": []
  }
 ],
 "metadata": {
  "kernelspec": {
   "display_name": "Python 3",
   "language": "python",
   "name": "python3"
  },
  "language_info": {
   "codemirror_mode": {
    "name": "ipython",
    "version": 3
   },
   "file_extension": ".py",
   "mimetype": "text/x-python",
   "name": "python",
   "nbconvert_exporter": "python",
   "pygments_lexer": "ipython3",
   "version": "3.6.9"
  }
 },
 "nbformat": 4,
 "nbformat_minor": 2
}
